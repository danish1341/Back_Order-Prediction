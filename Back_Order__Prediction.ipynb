{
  "nbformat": 4,
  "nbformat_minor": 0,
  "metadata": {
    "colab": {
      "provenance": []
    },
    "kernelspec": {
      "name": "python3",
      "display_name": "Python 3"
    },
    "language_info": {
      "name": "python"
    }
  },
  "cells": [
    {
      "cell_type": "code",
      "execution_count": 15,
      "metadata": {
        "id": "ZYGeUb4UFXkr"
      },
      "outputs": [],
      "source": [
        "import csv\n",
        "import numpy as np\n",
        "import pandas as pd\n",
        "import seaborn as sns\n",
        "import os\n",
        "import matplotlib.pyplot as plt\n",
        "from sklearn.ensemble import RandomForestClassifier"
      ]
    },
    {
      "cell_type": "code",
      "source": [
        "df= pd.read_csv('/content/Kaggle_Training_Dataset_v2.csv')"
      ],
      "metadata": {
        "id": "mV-9XUC8Jj7a",
        "colab": {
          "base_uri": "https://localhost:8080/"
        },
        "outputId": "580105d0-44a1-4614-8503-1dffe0a44935"
      },
      "execution_count": 3,
      "outputs": [
        {
          "output_type": "stream",
          "name": "stderr",
          "text": [
            "<ipython-input-3-f284c24ce12a>:1: DtypeWarning: Columns (0) have mixed types. Specify dtype option on import or set low_memory=False.\n",
            "  df= pd.read_csv('/content/Kaggle_Training_Dataset_v2.csv')\n"
          ]
        }
      ]
    },
    {
      "cell_type": "code",
      "source": [
        "df.shape # there are lot of rows with data (Can be duplicate values and NA values might present)"
      ],
      "metadata": {
        "colab": {
          "base_uri": "https://localhost:8080/"
        },
        "id": "g8DdY7M-oBJx",
        "outputId": "9680950e-748b-4ba8-c04d-ffd5366f2cb6"
      },
      "execution_count": 6,
      "outputs": [
        {
          "output_type": "execute_result",
          "data": {
            "text/plain": [
              "(1687861, 23)"
            ]
          },
          "metadata": {},
          "execution_count": 6
        }
      ]
    },
    {
      "cell_type": "code",
      "source": [
        "df.head()"
      ],
      "metadata": {
        "colab": {
          "base_uri": "https://localhost:8080/",
          "height": 256
        },
        "id": "zTOVrIdvnU8X",
        "outputId": "3f05c452-0769-479b-fcdb-c66e07cf9db5"
      },
      "execution_count": 5,
      "outputs": [
        {
          "output_type": "execute_result",
          "data": {
            "text/plain": [
              "       sku  national_inv  lead_time  in_transit_qty  forecast_3_month  \\\n",
              "0  1026827           0.0        NaN             0.0               0.0   \n",
              "1  1043384           2.0        9.0             0.0               0.0   \n",
              "2  1043696           2.0        NaN             0.0               0.0   \n",
              "3  1043852           7.0        8.0             0.0               0.0   \n",
              "4  1044048           8.0        NaN             0.0               0.0   \n",
              "\n",
              "   forecast_6_month  forecast_9_month  sales_1_month  sales_3_month  \\\n",
              "0               0.0               0.0            0.0            0.0   \n",
              "1               0.0               0.0            0.0            0.0   \n",
              "2               0.0               0.0            0.0            0.0   \n",
              "3               0.0               0.0            0.0            0.0   \n",
              "4               0.0               0.0            0.0            0.0   \n",
              "\n",
              "   sales_6_month  ...  pieces_past_due  perf_6_month_avg perf_12_month_avg  \\\n",
              "0            0.0  ...              0.0            -99.00            -99.00   \n",
              "1            0.0  ...              0.0              0.99              0.99   \n",
              "2            0.0  ...              0.0            -99.00            -99.00   \n",
              "3            0.0  ...              0.0              0.10              0.13   \n",
              "4            0.0  ...              0.0            -99.00            -99.00   \n",
              "\n",
              "   local_bo_qty  deck_risk  oe_constraint  ppap_risk stop_auto_buy rev_stop  \\\n",
              "0           0.0         No             No         No           Yes       No   \n",
              "1           0.0         No             No         No           Yes       No   \n",
              "2           0.0        Yes             No         No           Yes       No   \n",
              "3           0.0         No             No         No           Yes       No   \n",
              "4           0.0        Yes             No         No           Yes       No   \n",
              "\n",
              "  went_on_backorder  \n",
              "0                No  \n",
              "1                No  \n",
              "2                No  \n",
              "3                No  \n",
              "4                No  \n",
              "\n",
              "[5 rows x 23 columns]"
            ],
            "text/html": [
              "\n",
              "  <div id=\"df-7969915b-8f74-43b5-a8bc-c96d7dda185d\" class=\"colab-df-container\">\n",
              "    <div>\n",
              "<style scoped>\n",
              "    .dataframe tbody tr th:only-of-type {\n",
              "        vertical-align: middle;\n",
              "    }\n",
              "\n",
              "    .dataframe tbody tr th {\n",
              "        vertical-align: top;\n",
              "    }\n",
              "\n",
              "    .dataframe thead th {\n",
              "        text-align: right;\n",
              "    }\n",
              "</style>\n",
              "<table border=\"1\" class=\"dataframe\">\n",
              "  <thead>\n",
              "    <tr style=\"text-align: right;\">\n",
              "      <th></th>\n",
              "      <th>sku</th>\n",
              "      <th>national_inv</th>\n",
              "      <th>lead_time</th>\n",
              "      <th>in_transit_qty</th>\n",
              "      <th>forecast_3_month</th>\n",
              "      <th>forecast_6_month</th>\n",
              "      <th>forecast_9_month</th>\n",
              "      <th>sales_1_month</th>\n",
              "      <th>sales_3_month</th>\n",
              "      <th>sales_6_month</th>\n",
              "      <th>...</th>\n",
              "      <th>pieces_past_due</th>\n",
              "      <th>perf_6_month_avg</th>\n",
              "      <th>perf_12_month_avg</th>\n",
              "      <th>local_bo_qty</th>\n",
              "      <th>deck_risk</th>\n",
              "      <th>oe_constraint</th>\n",
              "      <th>ppap_risk</th>\n",
              "      <th>stop_auto_buy</th>\n",
              "      <th>rev_stop</th>\n",
              "      <th>went_on_backorder</th>\n",
              "    </tr>\n",
              "  </thead>\n",
              "  <tbody>\n",
              "    <tr>\n",
              "      <th>0</th>\n",
              "      <td>1026827</td>\n",
              "      <td>0.0</td>\n",
              "      <td>NaN</td>\n",
              "      <td>0.0</td>\n",
              "      <td>0.0</td>\n",
              "      <td>0.0</td>\n",
              "      <td>0.0</td>\n",
              "      <td>0.0</td>\n",
              "      <td>0.0</td>\n",
              "      <td>0.0</td>\n",
              "      <td>...</td>\n",
              "      <td>0.0</td>\n",
              "      <td>-99.00</td>\n",
              "      <td>-99.00</td>\n",
              "      <td>0.0</td>\n",
              "      <td>No</td>\n",
              "      <td>No</td>\n",
              "      <td>No</td>\n",
              "      <td>Yes</td>\n",
              "      <td>No</td>\n",
              "      <td>No</td>\n",
              "    </tr>\n",
              "    <tr>\n",
              "      <th>1</th>\n",
              "      <td>1043384</td>\n",
              "      <td>2.0</td>\n",
              "      <td>9.0</td>\n",
              "      <td>0.0</td>\n",
              "      <td>0.0</td>\n",
              "      <td>0.0</td>\n",
              "      <td>0.0</td>\n",
              "      <td>0.0</td>\n",
              "      <td>0.0</td>\n",
              "      <td>0.0</td>\n",
              "      <td>...</td>\n",
              "      <td>0.0</td>\n",
              "      <td>0.99</td>\n",
              "      <td>0.99</td>\n",
              "      <td>0.0</td>\n",
              "      <td>No</td>\n",
              "      <td>No</td>\n",
              "      <td>No</td>\n",
              "      <td>Yes</td>\n",
              "      <td>No</td>\n",
              "      <td>No</td>\n",
              "    </tr>\n",
              "    <tr>\n",
              "      <th>2</th>\n",
              "      <td>1043696</td>\n",
              "      <td>2.0</td>\n",
              "      <td>NaN</td>\n",
              "      <td>0.0</td>\n",
              "      <td>0.0</td>\n",
              "      <td>0.0</td>\n",
              "      <td>0.0</td>\n",
              "      <td>0.0</td>\n",
              "      <td>0.0</td>\n",
              "      <td>0.0</td>\n",
              "      <td>...</td>\n",
              "      <td>0.0</td>\n",
              "      <td>-99.00</td>\n",
              "      <td>-99.00</td>\n",
              "      <td>0.0</td>\n",
              "      <td>Yes</td>\n",
              "      <td>No</td>\n",
              "      <td>No</td>\n",
              "      <td>Yes</td>\n",
              "      <td>No</td>\n",
              "      <td>No</td>\n",
              "    </tr>\n",
              "    <tr>\n",
              "      <th>3</th>\n",
              "      <td>1043852</td>\n",
              "      <td>7.0</td>\n",
              "      <td>8.0</td>\n",
              "      <td>0.0</td>\n",
              "      <td>0.0</td>\n",
              "      <td>0.0</td>\n",
              "      <td>0.0</td>\n",
              "      <td>0.0</td>\n",
              "      <td>0.0</td>\n",
              "      <td>0.0</td>\n",
              "      <td>...</td>\n",
              "      <td>0.0</td>\n",
              "      <td>0.10</td>\n",
              "      <td>0.13</td>\n",
              "      <td>0.0</td>\n",
              "      <td>No</td>\n",
              "      <td>No</td>\n",
              "      <td>No</td>\n",
              "      <td>Yes</td>\n",
              "      <td>No</td>\n",
              "      <td>No</td>\n",
              "    </tr>\n",
              "    <tr>\n",
              "      <th>4</th>\n",
              "      <td>1044048</td>\n",
              "      <td>8.0</td>\n",
              "      <td>NaN</td>\n",
              "      <td>0.0</td>\n",
              "      <td>0.0</td>\n",
              "      <td>0.0</td>\n",
              "      <td>0.0</td>\n",
              "      <td>0.0</td>\n",
              "      <td>0.0</td>\n",
              "      <td>0.0</td>\n",
              "      <td>...</td>\n",
              "      <td>0.0</td>\n",
              "      <td>-99.00</td>\n",
              "      <td>-99.00</td>\n",
              "      <td>0.0</td>\n",
              "      <td>Yes</td>\n",
              "      <td>No</td>\n",
              "      <td>No</td>\n",
              "      <td>Yes</td>\n",
              "      <td>No</td>\n",
              "      <td>No</td>\n",
              "    </tr>\n",
              "  </tbody>\n",
              "</table>\n",
              "<p>5 rows × 23 columns</p>\n",
              "</div>\n",
              "    <div class=\"colab-df-buttons\">\n",
              "\n",
              "  <div class=\"colab-df-container\">\n",
              "    <button class=\"colab-df-convert\" onclick=\"convertToInteractive('df-7969915b-8f74-43b5-a8bc-c96d7dda185d')\"\n",
              "            title=\"Convert this dataframe to an interactive table.\"\n",
              "            style=\"display:none;\">\n",
              "\n",
              "  <svg xmlns=\"http://www.w3.org/2000/svg\" height=\"24px\" viewBox=\"0 -960 960 960\">\n",
              "    <path d=\"M120-120v-720h720v720H120Zm60-500h600v-160H180v160Zm220 220h160v-160H400v160Zm0 220h160v-160H400v160ZM180-400h160v-160H180v160Zm440 0h160v-160H620v160ZM180-180h160v-160H180v160Zm440 0h160v-160H620v160Z\"/>\n",
              "  </svg>\n",
              "    </button>\n",
              "\n",
              "  <style>\n",
              "    .colab-df-container {\n",
              "      display:flex;\n",
              "      gap: 12px;\n",
              "    }\n",
              "\n",
              "    .colab-df-convert {\n",
              "      background-color: #E8F0FE;\n",
              "      border: none;\n",
              "      border-radius: 50%;\n",
              "      cursor: pointer;\n",
              "      display: none;\n",
              "      fill: #1967D2;\n",
              "      height: 32px;\n",
              "      padding: 0 0 0 0;\n",
              "      width: 32px;\n",
              "    }\n",
              "\n",
              "    .colab-df-convert:hover {\n",
              "      background-color: #E2EBFA;\n",
              "      box-shadow: 0px 1px 2px rgba(60, 64, 67, 0.3), 0px 1px 3px 1px rgba(60, 64, 67, 0.15);\n",
              "      fill: #174EA6;\n",
              "    }\n",
              "\n",
              "    .colab-df-buttons div {\n",
              "      margin-bottom: 4px;\n",
              "    }\n",
              "\n",
              "    [theme=dark] .colab-df-convert {\n",
              "      background-color: #3B4455;\n",
              "      fill: #D2E3FC;\n",
              "    }\n",
              "\n",
              "    [theme=dark] .colab-df-convert:hover {\n",
              "      background-color: #434B5C;\n",
              "      box-shadow: 0px 1px 3px 1px rgba(0, 0, 0, 0.15);\n",
              "      filter: drop-shadow(0px 1px 2px rgba(0, 0, 0, 0.3));\n",
              "      fill: #FFFFFF;\n",
              "    }\n",
              "  </style>\n",
              "\n",
              "    <script>\n",
              "      const buttonEl =\n",
              "        document.querySelector('#df-7969915b-8f74-43b5-a8bc-c96d7dda185d button.colab-df-convert');\n",
              "      buttonEl.style.display =\n",
              "        google.colab.kernel.accessAllowed ? 'block' : 'none';\n",
              "\n",
              "      async function convertToInteractive(key) {\n",
              "        const element = document.querySelector('#df-7969915b-8f74-43b5-a8bc-c96d7dda185d');\n",
              "        const dataTable =\n",
              "          await google.colab.kernel.invokeFunction('convertToInteractive',\n",
              "                                                    [key], {});\n",
              "        if (!dataTable) return;\n",
              "\n",
              "        const docLinkHtml = 'Like what you see? Visit the ' +\n",
              "          '<a target=\"_blank\" href=https://colab.research.google.com/notebooks/data_table.ipynb>data table notebook</a>'\n",
              "          + ' to learn more about interactive tables.';\n",
              "        element.innerHTML = '';\n",
              "        dataTable['output_type'] = 'display_data';\n",
              "        await google.colab.output.renderOutput(dataTable, element);\n",
              "        const docLink = document.createElement('div');\n",
              "        docLink.innerHTML = docLinkHtml;\n",
              "        element.appendChild(docLink);\n",
              "      }\n",
              "    </script>\n",
              "  </div>\n",
              "\n",
              "\n",
              "<div id=\"df-c5bf86ed-9278-4f95-b2cc-0780d2034f79\">\n",
              "  <button class=\"colab-df-quickchart\" onclick=\"quickchart('df-c5bf86ed-9278-4f95-b2cc-0780d2034f79')\"\n",
              "            title=\"Suggest charts\"\n",
              "            style=\"display:none;\">\n",
              "\n",
              "<svg xmlns=\"http://www.w3.org/2000/svg\" height=\"24px\"viewBox=\"0 0 24 24\"\n",
              "     width=\"24px\">\n",
              "    <g>\n",
              "        <path d=\"M19 3H5c-1.1 0-2 .9-2 2v14c0 1.1.9 2 2 2h14c1.1 0 2-.9 2-2V5c0-1.1-.9-2-2-2zM9 17H7v-7h2v7zm4 0h-2V7h2v10zm4 0h-2v-4h2v4z\"/>\n",
              "    </g>\n",
              "</svg>\n",
              "  </button>\n",
              "\n",
              "<style>\n",
              "  .colab-df-quickchart {\n",
              "      --bg-color: #E8F0FE;\n",
              "      --fill-color: #1967D2;\n",
              "      --hover-bg-color: #E2EBFA;\n",
              "      --hover-fill-color: #174EA6;\n",
              "      --disabled-fill-color: #AAA;\n",
              "      --disabled-bg-color: #DDD;\n",
              "  }\n",
              "\n",
              "  [theme=dark] .colab-df-quickchart {\n",
              "      --bg-color: #3B4455;\n",
              "      --fill-color: #D2E3FC;\n",
              "      --hover-bg-color: #434B5C;\n",
              "      --hover-fill-color: #FFFFFF;\n",
              "      --disabled-bg-color: #3B4455;\n",
              "      --disabled-fill-color: #666;\n",
              "  }\n",
              "\n",
              "  .colab-df-quickchart {\n",
              "    background-color: var(--bg-color);\n",
              "    border: none;\n",
              "    border-radius: 50%;\n",
              "    cursor: pointer;\n",
              "    display: none;\n",
              "    fill: var(--fill-color);\n",
              "    height: 32px;\n",
              "    padding: 0;\n",
              "    width: 32px;\n",
              "  }\n",
              "\n",
              "  .colab-df-quickchart:hover {\n",
              "    background-color: var(--hover-bg-color);\n",
              "    box-shadow: 0 1px 2px rgba(60, 64, 67, 0.3), 0 1px 3px 1px rgba(60, 64, 67, 0.15);\n",
              "    fill: var(--button-hover-fill-color);\n",
              "  }\n",
              "\n",
              "  .colab-df-quickchart-complete:disabled,\n",
              "  .colab-df-quickchart-complete:disabled:hover {\n",
              "    background-color: var(--disabled-bg-color);\n",
              "    fill: var(--disabled-fill-color);\n",
              "    box-shadow: none;\n",
              "  }\n",
              "\n",
              "  .colab-df-spinner {\n",
              "    border: 2px solid var(--fill-color);\n",
              "    border-color: transparent;\n",
              "    border-bottom-color: var(--fill-color);\n",
              "    animation:\n",
              "      spin 1s steps(1) infinite;\n",
              "  }\n",
              "\n",
              "  @keyframes spin {\n",
              "    0% {\n",
              "      border-color: transparent;\n",
              "      border-bottom-color: var(--fill-color);\n",
              "      border-left-color: var(--fill-color);\n",
              "    }\n",
              "    20% {\n",
              "      border-color: transparent;\n",
              "      border-left-color: var(--fill-color);\n",
              "      border-top-color: var(--fill-color);\n",
              "    }\n",
              "    30% {\n",
              "      border-color: transparent;\n",
              "      border-left-color: var(--fill-color);\n",
              "      border-top-color: var(--fill-color);\n",
              "      border-right-color: var(--fill-color);\n",
              "    }\n",
              "    40% {\n",
              "      border-color: transparent;\n",
              "      border-right-color: var(--fill-color);\n",
              "      border-top-color: var(--fill-color);\n",
              "    }\n",
              "    60% {\n",
              "      border-color: transparent;\n",
              "      border-right-color: var(--fill-color);\n",
              "    }\n",
              "    80% {\n",
              "      border-color: transparent;\n",
              "      border-right-color: var(--fill-color);\n",
              "      border-bottom-color: var(--fill-color);\n",
              "    }\n",
              "    90% {\n",
              "      border-color: transparent;\n",
              "      border-bottom-color: var(--fill-color);\n",
              "    }\n",
              "  }\n",
              "</style>\n",
              "\n",
              "  <script>\n",
              "    async function quickchart(key) {\n",
              "      const quickchartButtonEl =\n",
              "        document.querySelector('#' + key + ' button');\n",
              "      quickchartButtonEl.disabled = true;  // To prevent multiple clicks.\n",
              "      quickchartButtonEl.classList.add('colab-df-spinner');\n",
              "      try {\n",
              "        const charts = await google.colab.kernel.invokeFunction(\n",
              "            'suggestCharts', [key], {});\n",
              "      } catch (error) {\n",
              "        console.error('Error during call to suggestCharts:', error);\n",
              "      }\n",
              "      quickchartButtonEl.classList.remove('colab-df-spinner');\n",
              "      quickchartButtonEl.classList.add('colab-df-quickchart-complete');\n",
              "    }\n",
              "    (() => {\n",
              "      let quickchartButtonEl =\n",
              "        document.querySelector('#df-c5bf86ed-9278-4f95-b2cc-0780d2034f79 button');\n",
              "      quickchartButtonEl.style.display =\n",
              "        google.colab.kernel.accessAllowed ? 'block' : 'none';\n",
              "    })();\n",
              "  </script>\n",
              "</div>\n",
              "\n",
              "    </div>\n",
              "  </div>\n"
            ],
            "application/vnd.google.colaboratory.intrinsic+json": {
              "type": "dataframe",
              "variable_name": "df"
            }
          },
          "metadata": {},
          "execution_count": 5
        }
      ]
    },
    {
      "cell_type": "code",
      "source": [
        "df.info() # Gives an idea of the No of categorical data and no of No of numerical columns"
      ],
      "metadata": {
        "colab": {
          "base_uri": "https://localhost:8080/"
        },
        "id": "NKdohtSUnbGH",
        "outputId": "5d44295b-99f1-4f46-b42b-443e2ec7f4d6"
      },
      "execution_count": 8,
      "outputs": [
        {
          "output_type": "stream",
          "name": "stdout",
          "text": [
            "<class 'pandas.core.frame.DataFrame'>\n",
            "RangeIndex: 1687861 entries, 0 to 1687860\n",
            "Data columns (total 23 columns):\n",
            " #   Column             Non-Null Count    Dtype  \n",
            "---  ------             --------------    -----  \n",
            " 0   sku                1687861 non-null  object \n",
            " 1   national_inv       1687860 non-null  float64\n",
            " 2   lead_time          1586967 non-null  float64\n",
            " 3   in_transit_qty     1687860 non-null  float64\n",
            " 4   forecast_3_month   1687860 non-null  float64\n",
            " 5   forecast_6_month   1687860 non-null  float64\n",
            " 6   forecast_9_month   1687860 non-null  float64\n",
            " 7   sales_1_month      1687860 non-null  float64\n",
            " 8   sales_3_month      1687860 non-null  float64\n",
            " 9   sales_6_month      1687860 non-null  float64\n",
            " 10  sales_9_month      1687860 non-null  float64\n",
            " 11  min_bank           1687860 non-null  float64\n",
            " 12  potential_issue    1687860 non-null  object \n",
            " 13  pieces_past_due    1687860 non-null  float64\n",
            " 14  perf_6_month_avg   1687860 non-null  float64\n",
            " 15  perf_12_month_avg  1687860 non-null  float64\n",
            " 16  local_bo_qty       1687860 non-null  float64\n",
            " 17  deck_risk          1687860 non-null  object \n",
            " 18  oe_constraint      1687860 non-null  object \n",
            " 19  ppap_risk          1687860 non-null  object \n",
            " 20  stop_auto_buy      1687860 non-null  object \n",
            " 21  rev_stop           1687860 non-null  object \n",
            " 22  went_on_backorder  1687860 non-null  object \n",
            "dtypes: float64(15), object(8)\n",
            "memory usage: 296.2+ MB\n"
          ]
        }
      ]
    },
    {
      "cell_type": "code",
      "source": [
        "df.describe()"
      ],
      "metadata": {
        "colab": {
          "base_uri": "https://localhost:8080/",
          "height": 320
        },
        "id": "nEnvRVE6nbro",
        "outputId": "08c393d2-41e7-4525-e774-4005a57a194c"
      },
      "execution_count": 9,
      "outputs": [
        {
          "output_type": "execute_result",
          "data": {
            "text/plain": [
              "       national_inv     lead_time  in_transit_qty  forecast_3_month  \\\n",
              "count  1.687860e+06  1.586967e+06    1.687860e+06      1.687860e+06   \n",
              "mean   4.961118e+02  7.872267e+00    4.405202e+01      1.781193e+02   \n",
              "std    2.961523e+04  7.056024e+00    1.342742e+03      5.026553e+03   \n",
              "min   -2.725600e+04  0.000000e+00    0.000000e+00      0.000000e+00   \n",
              "25%    4.000000e+00  4.000000e+00    0.000000e+00      0.000000e+00   \n",
              "50%    1.500000e+01  8.000000e+00    0.000000e+00      0.000000e+00   \n",
              "75%    8.000000e+01  9.000000e+00    0.000000e+00      4.000000e+00   \n",
              "max    1.233440e+07  5.200000e+01    4.894080e+05      1.427612e+06   \n",
              "\n",
              "       forecast_6_month  forecast_9_month  sales_1_month  sales_3_month  \\\n",
              "count      1.687860e+06      1.687860e+06   1.687860e+06   1.687860e+06   \n",
              "mean       3.449867e+02      5.063644e+02   5.592607e+01   1.750259e+02   \n",
              "std        9.795152e+03      1.437892e+04   1.928196e+03   5.192378e+03   \n",
              "min        0.000000e+00      0.000000e+00   0.000000e+00   0.000000e+00   \n",
              "25%        0.000000e+00      0.000000e+00   0.000000e+00   0.000000e+00   \n",
              "50%        0.000000e+00      0.000000e+00   0.000000e+00   1.000000e+00   \n",
              "75%        1.200000e+01      2.000000e+01   4.000000e+00   1.500000e+01   \n",
              "max        2.461360e+06      3.777304e+06   7.417740e+05   1.105478e+06   \n",
              "\n",
              "       sales_6_month  sales_9_month      min_bank  pieces_past_due  \\\n",
              "count   1.687860e+06   1.687860e+06  1.687860e+06     1.687860e+06   \n",
              "mean    3.417288e+02   5.252697e+02  5.277230e+01     2.043724e+00   \n",
              "std     9.613167e+03   1.483861e+04  1.254983e+03     2.360165e+02   \n",
              "min     0.000000e+00   0.000000e+00  0.000000e+00     0.000000e+00   \n",
              "25%     0.000000e+00   0.000000e+00  0.000000e+00     0.000000e+00   \n",
              "50%     2.000000e+00   4.000000e+00  0.000000e+00     0.000000e+00   \n",
              "75%     3.100000e+01   4.700000e+01  3.000000e+00     0.000000e+00   \n",
              "max     2.146625e+06   3.205172e+06  3.133190e+05     1.464960e+05   \n",
              "\n",
              "       perf_6_month_avg  perf_12_month_avg  local_bo_qty  \n",
              "count      1.687860e+06       1.687860e+06  1.687860e+06  \n",
              "mean      -6.872059e+00      -6.437947e+00  6.264507e-01  \n",
              "std        2.655636e+01       2.584333e+01  3.372224e+01  \n",
              "min       -9.900000e+01      -9.900000e+01  0.000000e+00  \n",
              "25%        6.300000e-01       6.600000e-01  0.000000e+00  \n",
              "50%        8.200000e-01       8.100000e-01  0.000000e+00  \n",
              "75%        9.700000e-01       9.500000e-01  0.000000e+00  \n",
              "max        1.000000e+00       1.000000e+00  1.253000e+04  "
            ],
            "text/html": [
              "\n",
              "  <div id=\"df-958429ce-2a2b-4e9c-83b8-4860287ed603\" class=\"colab-df-container\">\n",
              "    <div>\n",
              "<style scoped>\n",
              "    .dataframe tbody tr th:only-of-type {\n",
              "        vertical-align: middle;\n",
              "    }\n",
              "\n",
              "    .dataframe tbody tr th {\n",
              "        vertical-align: top;\n",
              "    }\n",
              "\n",
              "    .dataframe thead th {\n",
              "        text-align: right;\n",
              "    }\n",
              "</style>\n",
              "<table border=\"1\" class=\"dataframe\">\n",
              "  <thead>\n",
              "    <tr style=\"text-align: right;\">\n",
              "      <th></th>\n",
              "      <th>national_inv</th>\n",
              "      <th>lead_time</th>\n",
              "      <th>in_transit_qty</th>\n",
              "      <th>forecast_3_month</th>\n",
              "      <th>forecast_6_month</th>\n",
              "      <th>forecast_9_month</th>\n",
              "      <th>sales_1_month</th>\n",
              "      <th>sales_3_month</th>\n",
              "      <th>sales_6_month</th>\n",
              "      <th>sales_9_month</th>\n",
              "      <th>min_bank</th>\n",
              "      <th>pieces_past_due</th>\n",
              "      <th>perf_6_month_avg</th>\n",
              "      <th>perf_12_month_avg</th>\n",
              "      <th>local_bo_qty</th>\n",
              "    </tr>\n",
              "  </thead>\n",
              "  <tbody>\n",
              "    <tr>\n",
              "      <th>count</th>\n",
              "      <td>1.687860e+06</td>\n",
              "      <td>1.586967e+06</td>\n",
              "      <td>1.687860e+06</td>\n",
              "      <td>1.687860e+06</td>\n",
              "      <td>1.687860e+06</td>\n",
              "      <td>1.687860e+06</td>\n",
              "      <td>1.687860e+06</td>\n",
              "      <td>1.687860e+06</td>\n",
              "      <td>1.687860e+06</td>\n",
              "      <td>1.687860e+06</td>\n",
              "      <td>1.687860e+06</td>\n",
              "      <td>1.687860e+06</td>\n",
              "      <td>1.687860e+06</td>\n",
              "      <td>1.687860e+06</td>\n",
              "      <td>1.687860e+06</td>\n",
              "    </tr>\n",
              "    <tr>\n",
              "      <th>mean</th>\n",
              "      <td>4.961118e+02</td>\n",
              "      <td>7.872267e+00</td>\n",
              "      <td>4.405202e+01</td>\n",
              "      <td>1.781193e+02</td>\n",
              "      <td>3.449867e+02</td>\n",
              "      <td>5.063644e+02</td>\n",
              "      <td>5.592607e+01</td>\n",
              "      <td>1.750259e+02</td>\n",
              "      <td>3.417288e+02</td>\n",
              "      <td>5.252697e+02</td>\n",
              "      <td>5.277230e+01</td>\n",
              "      <td>2.043724e+00</td>\n",
              "      <td>-6.872059e+00</td>\n",
              "      <td>-6.437947e+00</td>\n",
              "      <td>6.264507e-01</td>\n",
              "    </tr>\n",
              "    <tr>\n",
              "      <th>std</th>\n",
              "      <td>2.961523e+04</td>\n",
              "      <td>7.056024e+00</td>\n",
              "      <td>1.342742e+03</td>\n",
              "      <td>5.026553e+03</td>\n",
              "      <td>9.795152e+03</td>\n",
              "      <td>1.437892e+04</td>\n",
              "      <td>1.928196e+03</td>\n",
              "      <td>5.192378e+03</td>\n",
              "      <td>9.613167e+03</td>\n",
              "      <td>1.483861e+04</td>\n",
              "      <td>1.254983e+03</td>\n",
              "      <td>2.360165e+02</td>\n",
              "      <td>2.655636e+01</td>\n",
              "      <td>2.584333e+01</td>\n",
              "      <td>3.372224e+01</td>\n",
              "    </tr>\n",
              "    <tr>\n",
              "      <th>min</th>\n",
              "      <td>-2.725600e+04</td>\n",
              "      <td>0.000000e+00</td>\n",
              "      <td>0.000000e+00</td>\n",
              "      <td>0.000000e+00</td>\n",
              "      <td>0.000000e+00</td>\n",
              "      <td>0.000000e+00</td>\n",
              "      <td>0.000000e+00</td>\n",
              "      <td>0.000000e+00</td>\n",
              "      <td>0.000000e+00</td>\n",
              "      <td>0.000000e+00</td>\n",
              "      <td>0.000000e+00</td>\n",
              "      <td>0.000000e+00</td>\n",
              "      <td>-9.900000e+01</td>\n",
              "      <td>-9.900000e+01</td>\n",
              "      <td>0.000000e+00</td>\n",
              "    </tr>\n",
              "    <tr>\n",
              "      <th>25%</th>\n",
              "      <td>4.000000e+00</td>\n",
              "      <td>4.000000e+00</td>\n",
              "      <td>0.000000e+00</td>\n",
              "      <td>0.000000e+00</td>\n",
              "      <td>0.000000e+00</td>\n",
              "      <td>0.000000e+00</td>\n",
              "      <td>0.000000e+00</td>\n",
              "      <td>0.000000e+00</td>\n",
              "      <td>0.000000e+00</td>\n",
              "      <td>0.000000e+00</td>\n",
              "      <td>0.000000e+00</td>\n",
              "      <td>0.000000e+00</td>\n",
              "      <td>6.300000e-01</td>\n",
              "      <td>6.600000e-01</td>\n",
              "      <td>0.000000e+00</td>\n",
              "    </tr>\n",
              "    <tr>\n",
              "      <th>50%</th>\n",
              "      <td>1.500000e+01</td>\n",
              "      <td>8.000000e+00</td>\n",
              "      <td>0.000000e+00</td>\n",
              "      <td>0.000000e+00</td>\n",
              "      <td>0.000000e+00</td>\n",
              "      <td>0.000000e+00</td>\n",
              "      <td>0.000000e+00</td>\n",
              "      <td>1.000000e+00</td>\n",
              "      <td>2.000000e+00</td>\n",
              "      <td>4.000000e+00</td>\n",
              "      <td>0.000000e+00</td>\n",
              "      <td>0.000000e+00</td>\n",
              "      <td>8.200000e-01</td>\n",
              "      <td>8.100000e-01</td>\n",
              "      <td>0.000000e+00</td>\n",
              "    </tr>\n",
              "    <tr>\n",
              "      <th>75%</th>\n",
              "      <td>8.000000e+01</td>\n",
              "      <td>9.000000e+00</td>\n",
              "      <td>0.000000e+00</td>\n",
              "      <td>4.000000e+00</td>\n",
              "      <td>1.200000e+01</td>\n",
              "      <td>2.000000e+01</td>\n",
              "      <td>4.000000e+00</td>\n",
              "      <td>1.500000e+01</td>\n",
              "      <td>3.100000e+01</td>\n",
              "      <td>4.700000e+01</td>\n",
              "      <td>3.000000e+00</td>\n",
              "      <td>0.000000e+00</td>\n",
              "      <td>9.700000e-01</td>\n",
              "      <td>9.500000e-01</td>\n",
              "      <td>0.000000e+00</td>\n",
              "    </tr>\n",
              "    <tr>\n",
              "      <th>max</th>\n",
              "      <td>1.233440e+07</td>\n",
              "      <td>5.200000e+01</td>\n",
              "      <td>4.894080e+05</td>\n",
              "      <td>1.427612e+06</td>\n",
              "      <td>2.461360e+06</td>\n",
              "      <td>3.777304e+06</td>\n",
              "      <td>7.417740e+05</td>\n",
              "      <td>1.105478e+06</td>\n",
              "      <td>2.146625e+06</td>\n",
              "      <td>3.205172e+06</td>\n",
              "      <td>3.133190e+05</td>\n",
              "      <td>1.464960e+05</td>\n",
              "      <td>1.000000e+00</td>\n",
              "      <td>1.000000e+00</td>\n",
              "      <td>1.253000e+04</td>\n",
              "    </tr>\n",
              "  </tbody>\n",
              "</table>\n",
              "</div>\n",
              "    <div class=\"colab-df-buttons\">\n",
              "\n",
              "  <div class=\"colab-df-container\">\n",
              "    <button class=\"colab-df-convert\" onclick=\"convertToInteractive('df-958429ce-2a2b-4e9c-83b8-4860287ed603')\"\n",
              "            title=\"Convert this dataframe to an interactive table.\"\n",
              "            style=\"display:none;\">\n",
              "\n",
              "  <svg xmlns=\"http://www.w3.org/2000/svg\" height=\"24px\" viewBox=\"0 -960 960 960\">\n",
              "    <path d=\"M120-120v-720h720v720H120Zm60-500h600v-160H180v160Zm220 220h160v-160H400v160Zm0 220h160v-160H400v160ZM180-400h160v-160H180v160Zm440 0h160v-160H620v160ZM180-180h160v-160H180v160Zm440 0h160v-160H620v160Z\"/>\n",
              "  </svg>\n",
              "    </button>\n",
              "\n",
              "  <style>\n",
              "    .colab-df-container {\n",
              "      display:flex;\n",
              "      gap: 12px;\n",
              "    }\n",
              "\n",
              "    .colab-df-convert {\n",
              "      background-color: #E8F0FE;\n",
              "      border: none;\n",
              "      border-radius: 50%;\n",
              "      cursor: pointer;\n",
              "      display: none;\n",
              "      fill: #1967D2;\n",
              "      height: 32px;\n",
              "      padding: 0 0 0 0;\n",
              "      width: 32px;\n",
              "    }\n",
              "\n",
              "    .colab-df-convert:hover {\n",
              "      background-color: #E2EBFA;\n",
              "      box-shadow: 0px 1px 2px rgba(60, 64, 67, 0.3), 0px 1px 3px 1px rgba(60, 64, 67, 0.15);\n",
              "      fill: #174EA6;\n",
              "    }\n",
              "\n",
              "    .colab-df-buttons div {\n",
              "      margin-bottom: 4px;\n",
              "    }\n",
              "\n",
              "    [theme=dark] .colab-df-convert {\n",
              "      background-color: #3B4455;\n",
              "      fill: #D2E3FC;\n",
              "    }\n",
              "\n",
              "    [theme=dark] .colab-df-convert:hover {\n",
              "      background-color: #434B5C;\n",
              "      box-shadow: 0px 1px 3px 1px rgba(0, 0, 0, 0.15);\n",
              "      filter: drop-shadow(0px 1px 2px rgba(0, 0, 0, 0.3));\n",
              "      fill: #FFFFFF;\n",
              "    }\n",
              "  </style>\n",
              "\n",
              "    <script>\n",
              "      const buttonEl =\n",
              "        document.querySelector('#df-958429ce-2a2b-4e9c-83b8-4860287ed603 button.colab-df-convert');\n",
              "      buttonEl.style.display =\n",
              "        google.colab.kernel.accessAllowed ? 'block' : 'none';\n",
              "\n",
              "      async function convertToInteractive(key) {\n",
              "        const element = document.querySelector('#df-958429ce-2a2b-4e9c-83b8-4860287ed603');\n",
              "        const dataTable =\n",
              "          await google.colab.kernel.invokeFunction('convertToInteractive',\n",
              "                                                    [key], {});\n",
              "        if (!dataTable) return;\n",
              "\n",
              "        const docLinkHtml = 'Like what you see? Visit the ' +\n",
              "          '<a target=\"_blank\" href=https://colab.research.google.com/notebooks/data_table.ipynb>data table notebook</a>'\n",
              "          + ' to learn more about interactive tables.';\n",
              "        element.innerHTML = '';\n",
              "        dataTable['output_type'] = 'display_data';\n",
              "        await google.colab.output.renderOutput(dataTable, element);\n",
              "        const docLink = document.createElement('div');\n",
              "        docLink.innerHTML = docLinkHtml;\n",
              "        element.appendChild(docLink);\n",
              "      }\n",
              "    </script>\n",
              "  </div>\n",
              "\n",
              "\n",
              "<div id=\"df-414b2890-512c-4976-924a-41a19d8d6940\">\n",
              "  <button class=\"colab-df-quickchart\" onclick=\"quickchart('df-414b2890-512c-4976-924a-41a19d8d6940')\"\n",
              "            title=\"Suggest charts\"\n",
              "            style=\"display:none;\">\n",
              "\n",
              "<svg xmlns=\"http://www.w3.org/2000/svg\" height=\"24px\"viewBox=\"0 0 24 24\"\n",
              "     width=\"24px\">\n",
              "    <g>\n",
              "        <path d=\"M19 3H5c-1.1 0-2 .9-2 2v14c0 1.1.9 2 2 2h14c1.1 0 2-.9 2-2V5c0-1.1-.9-2-2-2zM9 17H7v-7h2v7zm4 0h-2V7h2v10zm4 0h-2v-4h2v4z\"/>\n",
              "    </g>\n",
              "</svg>\n",
              "  </button>\n",
              "\n",
              "<style>\n",
              "  .colab-df-quickchart {\n",
              "      --bg-color: #E8F0FE;\n",
              "      --fill-color: #1967D2;\n",
              "      --hover-bg-color: #E2EBFA;\n",
              "      --hover-fill-color: #174EA6;\n",
              "      --disabled-fill-color: #AAA;\n",
              "      --disabled-bg-color: #DDD;\n",
              "  }\n",
              "\n",
              "  [theme=dark] .colab-df-quickchart {\n",
              "      --bg-color: #3B4455;\n",
              "      --fill-color: #D2E3FC;\n",
              "      --hover-bg-color: #434B5C;\n",
              "      --hover-fill-color: #FFFFFF;\n",
              "      --disabled-bg-color: #3B4455;\n",
              "      --disabled-fill-color: #666;\n",
              "  }\n",
              "\n",
              "  .colab-df-quickchart {\n",
              "    background-color: var(--bg-color);\n",
              "    border: none;\n",
              "    border-radius: 50%;\n",
              "    cursor: pointer;\n",
              "    display: none;\n",
              "    fill: var(--fill-color);\n",
              "    height: 32px;\n",
              "    padding: 0;\n",
              "    width: 32px;\n",
              "  }\n",
              "\n",
              "  .colab-df-quickchart:hover {\n",
              "    background-color: var(--hover-bg-color);\n",
              "    box-shadow: 0 1px 2px rgba(60, 64, 67, 0.3), 0 1px 3px 1px rgba(60, 64, 67, 0.15);\n",
              "    fill: var(--button-hover-fill-color);\n",
              "  }\n",
              "\n",
              "  .colab-df-quickchart-complete:disabled,\n",
              "  .colab-df-quickchart-complete:disabled:hover {\n",
              "    background-color: var(--disabled-bg-color);\n",
              "    fill: var(--disabled-fill-color);\n",
              "    box-shadow: none;\n",
              "  }\n",
              "\n",
              "  .colab-df-spinner {\n",
              "    border: 2px solid var(--fill-color);\n",
              "    border-color: transparent;\n",
              "    border-bottom-color: var(--fill-color);\n",
              "    animation:\n",
              "      spin 1s steps(1) infinite;\n",
              "  }\n",
              "\n",
              "  @keyframes spin {\n",
              "    0% {\n",
              "      border-color: transparent;\n",
              "      border-bottom-color: var(--fill-color);\n",
              "      border-left-color: var(--fill-color);\n",
              "    }\n",
              "    20% {\n",
              "      border-color: transparent;\n",
              "      border-left-color: var(--fill-color);\n",
              "      border-top-color: var(--fill-color);\n",
              "    }\n",
              "    30% {\n",
              "      border-color: transparent;\n",
              "      border-left-color: var(--fill-color);\n",
              "      border-top-color: var(--fill-color);\n",
              "      border-right-color: var(--fill-color);\n",
              "    }\n",
              "    40% {\n",
              "      border-color: transparent;\n",
              "      border-right-color: var(--fill-color);\n",
              "      border-top-color: var(--fill-color);\n",
              "    }\n",
              "    60% {\n",
              "      border-color: transparent;\n",
              "      border-right-color: var(--fill-color);\n",
              "    }\n",
              "    80% {\n",
              "      border-color: transparent;\n",
              "      border-right-color: var(--fill-color);\n",
              "      border-bottom-color: var(--fill-color);\n",
              "    }\n",
              "    90% {\n",
              "      border-color: transparent;\n",
              "      border-bottom-color: var(--fill-color);\n",
              "    }\n",
              "  }\n",
              "</style>\n",
              "\n",
              "  <script>\n",
              "    async function quickchart(key) {\n",
              "      const quickchartButtonEl =\n",
              "        document.querySelector('#' + key + ' button');\n",
              "      quickchartButtonEl.disabled = true;  // To prevent multiple clicks.\n",
              "      quickchartButtonEl.classList.add('colab-df-spinner');\n",
              "      try {\n",
              "        const charts = await google.colab.kernel.invokeFunction(\n",
              "            'suggestCharts', [key], {});\n",
              "      } catch (error) {\n",
              "        console.error('Error during call to suggestCharts:', error);\n",
              "      }\n",
              "      quickchartButtonEl.classList.remove('colab-df-spinner');\n",
              "      quickchartButtonEl.classList.add('colab-df-quickchart-complete');\n",
              "    }\n",
              "    (() => {\n",
              "      let quickchartButtonEl =\n",
              "        document.querySelector('#df-414b2890-512c-4976-924a-41a19d8d6940 button');\n",
              "      quickchartButtonEl.style.display =\n",
              "        google.colab.kernel.accessAllowed ? 'block' : 'none';\n",
              "    })();\n",
              "  </script>\n",
              "</div>\n",
              "\n",
              "    </div>\n",
              "  </div>\n"
            ],
            "application/vnd.google.colaboratory.intrinsic+json": {
              "type": "dataframe",
              "summary": "{\n  \"name\": \"df\",\n  \"rows\": 8,\n  \"fields\": [\n    {\n      \"column\": \"national_inv\",\n      \"properties\": {\n        \"dtype\": \"number\",\n        \"std\": 4316077.41744964,\n        \"min\": -27256.0,\n        \"max\": 12334404.0,\n        \"num_unique_values\": 8,\n        \"samples\": [\n          496.1117817828493,\n          15.0,\n          1687860.0\n        ],\n        \"semantic_type\": \"\",\n        \"description\": \"\"\n      }\n    },\n    {\n      \"column\": \"lead_time\",\n      \"properties\": {\n        \"dtype\": \"number\",\n        \"std\": 561073.1227986437,\n        \"min\": 0.0,\n        \"max\": 1586967.0,\n        \"num_unique_values\": 8,\n        \"samples\": [\n          7.872267035168343,\n          8.0,\n          1586967.0\n        ],\n        \"semantic_type\": \"\",\n        \"description\": \"\"\n      }\n    },\n    {\n      \"column\": \"in_transit_qty\",\n      \"properties\": {\n        \"dtype\": \"number\",\n        \"std\": 597025.5182590212,\n        \"min\": 0.0,\n        \"max\": 1687860.0,\n        \"num_unique_values\": 5,\n        \"samples\": [\n          44.05202208713993,\n          489408.0,\n          1342.7417307295896\n        ],\n        \"semantic_type\": \"\",\n        \"description\": \"\"\n      }\n    },\n    {\n      \"column\": \"forecast_3_month\",\n      \"properties\": {\n        \"dtype\": \"number\",\n        \"std\": 724040.4209066869,\n        \"min\": 0.0,\n        \"max\": 1687860.0,\n        \"num_unique_values\": 6,\n        \"samples\": [\n          1687860.0,\n          178.1192835898712,\n          1427612.0\n        ],\n        \"semantic_type\": \"\",\n        \"description\": \"\"\n      }\n    },\n    {\n      \"column\": \"forecast_6_month\",\n      \"properties\": {\n        \"dtype\": \"number\",\n        \"std\": 981595.8886292916,\n        \"min\": 0.0,\n        \"max\": 2461360.0,\n        \"num_unique_values\": 6,\n        \"samples\": [\n          1687860.0,\n          344.98666358584245,\n          2461360.0\n        ],\n        \"semantic_type\": \"\",\n        \"description\": \"\"\n      }\n    },\n    {\n      \"column\": \"forecast_9_month\",\n      \"properties\": {\n        \"dtype\": \"number\",\n        \"std\": 1381676.4647709366,\n        \"min\": 0.0,\n        \"max\": 3777304.0,\n        \"num_unique_values\": 6,\n        \"samples\": [\n          1687860.0,\n          506.3644306992286,\n          3777304.0\n        ],\n        \"semantic_type\": \"\",\n        \"description\": \"\"\n      }\n    },\n    {\n      \"column\": \"sales_1_month\",\n      \"properties\": {\n        \"dtype\": \"number\",\n        \"std\": 616442.037567914,\n        \"min\": 0.0,\n        \"max\": 1687860.0,\n        \"num_unique_values\": 6,\n        \"samples\": [\n          1687860.0,\n          55.926068512791346,\n          741774.0\n        ],\n        \"semantic_type\": \"\",\n        \"description\": \"\"\n      }\n    },\n    {\n      \"column\": \"sales_3_month\",\n      \"properties\": {\n        \"dtype\": \"number\",\n        \"std\": 664602.4367877388,\n        \"min\": 0.0,\n        \"max\": 1687860.0,\n        \"num_unique_values\": 7,\n        \"samples\": [\n          1687860.0,\n          175.0259304681668,\n          15.0\n        ],\n        \"semantic_type\": \"\",\n        \"description\": \"\"\n      }\n    },\n    {\n      \"column\": \"sales_6_month\",\n      \"properties\": {\n        \"dtype\": \"number\",\n        \"std\": 895182.8480415911,\n        \"min\": 0.0,\n        \"max\": 2146625.0,\n        \"num_unique_values\": 7,\n        \"samples\": [\n          1687860.0,\n          341.7288394772078,\n          31.0\n        ],\n        \"semantic_type\": \"\",\n        \"description\": \"\"\n      }\n    },\n    {\n      \"column\": \"sales_9_month\",\n      \"properties\": {\n        \"dtype\": \"number\",\n        \"std\": 1201820.823410973,\n        \"min\": 0.0,\n        \"max\": 3205172.0,\n        \"num_unique_values\": 7,\n        \"samples\": [\n          1687860.0,\n          525.2697006860759,\n          47.0\n        ],\n        \"semantic_type\": \"\",\n        \"description\": \"\"\n      }\n    },\n    {\n      \"column\": \"min_bank\",\n      \"properties\": {\n        \"dtype\": \"number\",\n        \"std\": 591100.1970395264,\n        \"min\": 0.0,\n        \"max\": 1687860.0,\n        \"num_unique_values\": 6,\n        \"samples\": [\n          1687860.0,\n          52.772303390091594,\n          313319.0\n        ],\n        \"semantic_type\": \"\",\n        \"description\": \"\"\n      }\n    },\n    {\n      \"column\": \"pieces_past_due\",\n      \"properties\": {\n        \"dtype\": \"number\",\n        \"std\": 591561.5645533868,\n        \"min\": 0.0,\n        \"max\": 1687860.0,\n        \"num_unique_values\": 5,\n        \"samples\": [\n          2.0437240055454837,\n          146496.0,\n          236.0164996934416\n        ],\n        \"semantic_type\": \"\",\n        \"description\": \"\"\n      }\n    },\n    {\n      \"column\": \"perf_6_month_avg\",\n      \"properties\": {\n        \"dtype\": \"number\",\n        \"std\": 596752.4603236585,\n        \"min\": -99.0,\n        \"max\": 1687860.0,\n        \"num_unique_values\": 8,\n        \"samples\": [\n          -6.8720588378183045,\n          0.82,\n          1687860.0\n        ],\n        \"semantic_type\": \"\",\n        \"description\": \"\"\n      }\n    },\n    {\n      \"column\": \"perf_12_month_avg\",\n      \"properties\": {\n        \"dtype\": \"number\",\n        \"std\": 596752.4744050252,\n        \"min\": -99.0,\n        \"max\": 1687860.0,\n        \"num_unique_values\": 8,\n        \"samples\": [\n          -6.437946743213299,\n          0.81,\n          1687860.0\n        ],\n        \"semantic_type\": \"\",\n        \"description\": \"\"\n      }\n    },\n    {\n      \"column\": \"local_bo_qty\",\n      \"properties\": {\n        \"dtype\": \"number\",\n        \"std\": 596130.1405055795,\n        \"min\": 0.0,\n        \"max\": 1687860.0,\n        \"num_unique_values\": 5,\n        \"samples\": [\n          0.6264506534902183,\n          12530.0,\n          33.72224156209117\n        ],\n        \"semantic_type\": \"\",\n        \"description\": \"\"\n      }\n    }\n  ]\n}"
            }
          },
          "metadata": {},
          "execution_count": 9
        }
      ]
    },
    {
      "cell_type": "code",
      "source": [
        "df.nunique()"
      ],
      "metadata": {
        "colab": {
          "base_uri": "https://localhost:8080/"
        },
        "id": "d0MNlVXinec0",
        "outputId": "893793d5-99a8-4f33-a9b4-c93cda584627"
      },
      "execution_count": 10,
      "outputs": [
        {
          "output_type": "execute_result",
          "data": {
            "text/plain": [
              "sku                  1687861\n",
              "national_inv           14969\n",
              "lead_time                 32\n",
              "in_transit_qty          5230\n",
              "forecast_3_month        7825\n",
              "forecast_6_month       11114\n",
              "forecast_9_month       13662\n",
              "sales_1_month           5764\n",
              "sales_3_month          10495\n",
              "sales_6_month          14818\n",
              "sales_9_month          18341\n",
              "min_bank                5568\n",
              "potential_issue            2\n",
              "pieces_past_due          826\n",
              "perf_6_month_avg         102\n",
              "perf_12_month_avg        102\n",
              "local_bo_qty             654\n",
              "deck_risk                  2\n",
              "oe_constraint              2\n",
              "ppap_risk                  2\n",
              "stop_auto_buy              2\n",
              "rev_stop                   2\n",
              "went_on_backorder          2\n",
              "dtype: int64"
            ]
          },
          "metadata": {},
          "execution_count": 10
        }
      ]
    },
    {
      "cell_type": "code",
      "source": [
        "df.isnull().sum()"
      ],
      "metadata": {
        "colab": {
          "base_uri": "https://localhost:8080/"
        },
        "id": "wRl-8TvooPl6",
        "outputId": "a524c6be-7009-4fd2-e604-27f09e605a29"
      },
      "execution_count": 11,
      "outputs": [
        {
          "output_type": "execute_result",
          "data": {
            "text/plain": [
              "sku                       0\n",
              "national_inv              1\n",
              "lead_time            100894\n",
              "in_transit_qty            1\n",
              "forecast_3_month          1\n",
              "forecast_6_month          1\n",
              "forecast_9_month          1\n",
              "sales_1_month             1\n",
              "sales_3_month             1\n",
              "sales_6_month             1\n",
              "sales_9_month             1\n",
              "min_bank                  1\n",
              "potential_issue           1\n",
              "pieces_past_due           1\n",
              "perf_6_month_avg          1\n",
              "perf_12_month_avg         1\n",
              "local_bo_qty              1\n",
              "deck_risk                 1\n",
              "oe_constraint             1\n",
              "ppap_risk                 1\n",
              "stop_auto_buy             1\n",
              "rev_stop                  1\n",
              "went_on_backorder         1\n",
              "dtype: int64"
            ]
          },
          "metadata": {},
          "execution_count": 11
        }
      ]
    },
    {
      "cell_type": "code",
      "source": [
        "df=df.drop(['sku'],axis=1)"
      ],
      "metadata": {
        "id": "WQAfyPbtteR6"
      },
      "execution_count": 12,
      "outputs": []
    },
    {
      "cell_type": "code",
      "source": [
        "df['went_on_backorder'].value_counts() # shows the data is imbalance"
      ],
      "metadata": {
        "colab": {
          "base_uri": "https://localhost:8080/"
        },
        "id": "I12wvQDQnjsv",
        "outputId": "3caa00cb-d88a-4053-8f65-86cd91f32846"
      },
      "execution_count": 13,
      "outputs": [
        {
          "output_type": "execute_result",
          "data": {
            "text/plain": [
              "went_on_backorder\n",
              "No     1676567\n",
              "Yes      11293\n",
              "Name: count, dtype: int64"
            ]
          },
          "metadata": {},
          "execution_count": 13
        }
      ]
    },
    {
      "cell_type": "code",
      "source": [
        "sns.countplot(x='went_on_backorder', data=df)\n",
        "plt.show()"
      ],
      "metadata": {
        "colab": {
          "base_uri": "https://localhost:8080/",
          "height": 465
        },
        "id": "fCyREy_aoNbp",
        "outputId": "507ff0aa-d479-4031-943e-f101af996e0f"
      },
      "execution_count": 16,
      "outputs": [
        {
          "output_type": "display_data",
          "data": {
            "text/plain": [
              "<Figure size 640x480 with 1 Axes>"
            ],
            "image/png": "[encoded data removed]"
          },
          "metadata": {}
        }
      ]
    },
    {
      "cell_type": "code",
      "source": [
        "df1= df.dropna(axis=0) # dropping rows with NA values"
      ],
      "metadata": {
        "id": "dPMprL3nnuTF"
      },
      "execution_count": 17,
      "outputs": []
    },
    {
      "cell_type": "code",
      "source": [
        "df.shape ,df1.shape #  as we can see here there are relatively less values of na than actual data frame"
      ],
      "metadata": {
        "colab": {
          "base_uri": "https://localhost:8080/"
        },
        "id": "MNvBnHZSooGG",
        "outputId": "011ff07a-c505-459d-cdf2-34283aeeec08"
      },
      "execution_count": 18,
      "outputs": [
        {
          "output_type": "execute_result",
          "data": {
            "text/plain": [
              "((1687861, 22), (1586967, 22))"
            ]
          },
          "metadata": {},
          "execution_count": 18
        }
      ]
    },
    {
      "cell_type": "code",
      "source": [
        "df2= df1.drop_duplicates() # dropping duplicates\n",
        "df2.shape"
      ],
      "metadata": {
        "colab": {
          "base_uri": "https://localhost:8080/"
        },
        "id": "8cRtiQdspxAP",
        "outputId": "38ca23df-843c-465c-f10a-23692580118e"
      },
      "execution_count": 19,
      "outputs": [
        {
          "output_type": "execute_result",
          "data": {
            "text/plain": [
              "(979471, 22)"
            ]
          },
          "metadata": {},
          "execution_count": 19
        }
      ]
    },
    {
      "cell_type": "code",
      "source": [
        "df1.info()"
      ],
      "metadata": {
        "colab": {
          "base_uri": "https://localhost:8080/"
        },
        "id": "UfkVQaYFqrVl",
        "outputId": "fe7840fc-9a5d-45f6-982f-2b7ae4e590e1"
      },
      "execution_count": 20,
      "outputs": [
        {
          "output_type": "stream",
          "name": "stdout",
          "text": [
            "<class 'pandas.core.frame.DataFrame'>\n",
            "Index: 1586967 entries, 1 to 1687859\n",
            "Data columns (total 22 columns):\n",
            " #   Column             Non-Null Count    Dtype  \n",
            "---  ------             --------------    -----  \n",
            " 0   national_inv       1586967 non-null  float64\n",
            " 1   lead_time          1586967 non-null  float64\n",
            " 2   in_transit_qty     1586967 non-null  float64\n",
            " 3   forecast_3_month   1586967 non-null  float64\n",
            " 4   forecast_6_month   1586967 non-null  float64\n",
            " 5   forecast_9_month   1586967 non-null  float64\n",
            " 6   sales_1_month      1586967 non-null  float64\n",
            " 7   sales_3_month      1586967 non-null  float64\n",
            " 8   sales_6_month      1586967 non-null  float64\n",
            " 9   sales_9_month      1586967 non-null  float64\n",
            " 10  min_bank           1586967 non-null  float64\n",
            " 11  potential_issue    1586967 non-null  object \n",
            " 12  pieces_past_due    1586967 non-null  float64\n",
            " 13  perf_6_month_avg   1586967 non-null  float64\n",
            " 14  perf_12_month_avg  1586967 non-null  float64\n",
            " 15  local_bo_qty       1586967 non-null  float64\n",
            " 16  deck_risk          1586967 non-null  object \n",
            " 17  oe_constraint      1586967 non-null  object \n",
            " 18  ppap_risk          1586967 non-null  object \n",
            " 19  stop_auto_buy      1586967 non-null  object \n",
            " 20  rev_stop           1586967 non-null  object \n",
            " 21  went_on_backorder  1586967 non-null  object \n",
            "dtypes: float64(15), object(7)\n",
            "memory usage: 278.5+ MB\n"
          ]
        }
      ]
    },
    {
      "cell_type": "markdown",
      "source": [
        "Going Through Categorical and Numerical Data"
      ],
      "metadata": {
        "id": "O9wW_hSruDlK"
      }
    },
    {
      "cell_type": "code",
      "source": [
        "numerical_cols= df1.select_dtypes(include=['number']).columns\n",
        "categorical_cols= df1.select_dtypes(include=['object']).columns"
      ],
      "metadata": {
        "id": "bsHVF622qvHv"
      },
      "execution_count": 24,
      "outputs": []
    },
    {
      "cell_type": "code",
      "source": [
        "categorical_cols= ['potential_issue', 'deck_risk', 'oe_constraint', 'ppap_risk',\n",
        "       'stop_auto_buy', 'rev_stop'] # Dealing an output Categorical Column with Label Encoder (Excluded)"
      ],
      "metadata": {
        "id": "f0VC3wOBq937"
      },
      "execution_count": 25,
      "outputs": []
    },
    {
      "cell_type": "code",
      "source": [
        "len(numerical_cols),len(categorical_cols)"
      ],
      "metadata": {
        "colab": {
          "base_uri": "https://localhost:8080/"
        },
        "id": "UlNWlQ-cq19C",
        "outputId": "908fe251-a9ea-4998-c23b-6fd2df92b6e8"
      },
      "execution_count": 26,
      "outputs": [
        {
          "output_type": "execute_result",
          "data": {
            "text/plain": [
              "(15, 6)"
            ]
          },
          "metadata": {},
          "execution_count": 26
        }
      ]
    },
    {
      "cell_type": "markdown",
      "source": [
        "Splitting the Dataset"
      ],
      "metadata": {
        "id": "MyiSTWq2rLBd"
      }
    },
    {
      "cell_type": "code",
      "source": [
        "X=df1.drop('went_on_backorder', axis=1)\n",
        "y=df1[\"went_on_backorder\"]"
      ],
      "metadata": {
        "id": "WLGZ4wyDrNBo"
      },
      "execution_count": 27,
      "outputs": []
    },
    {
      "cell_type": "code",
      "source": [
        "# lael encoding for the transformation of output categorical data to Numerical data\n",
        "from sklearn.preprocessing import LabelEncoder\n",
        "label_encoder = LabelEncoder()\n",
        "y_encoded = label_encoder.fit_transform(y)"
      ],
      "metadata": {
        "id": "jgzfdirCsZ2V"
      },
      "execution_count": 28,
      "outputs": []
    },
    {
      "cell_type": "code",
      "source": [
        "# importing the necessary libraries for handling categorical data\n",
        "from sklearn.compose import ColumnTransformer\n",
        "from sklearn.pipeline import Pipeline\n",
        "from sklearn.preprocessing import StandardScaler, OneHotEncoder, LabelEncoder\n",
        "from sklearn.ensemble import RandomForestClassifier"
      ],
      "metadata": {
        "id": "kbL3YxCPrOeg"
      },
      "execution_count": 29,
      "outputs": []
    },
    {
      "cell_type": "markdown",
      "source": [
        "Modelling(Random Forest Classifier)though Pipeline\n"
      ],
      "metadata": {
        "id": "PkaBtLjWr1FO"
      }
    },
    {
      "cell_type": "code",
      "source": [
        "# by solving Categorical Columns to the numerical colms by one hot encoding\n",
        "preprocessor = ColumnTransformer(\n",
        "    transformers=[\n",
        "        ('num', StandardScaler(), numerical_cols),\n",
        "        ('cat', OneHotEncoder(), categorical_cols)\n",
        "    ])\n",
        "\n",
        "label_encoder = LabelEncoder()\n",
        "y_encoded = label_encoder.fit_transform(y)\n",
        "\n",
        "pipeline = Pipeline([\n",
        "    ('preprocessor', preprocessor),\n",
        "    ('classifier', RandomForestClassifier())\n",
        "])"
      ],
      "metadata": {
        "id": "YddS1YNorgOa"
      },
      "execution_count": 30,
      "outputs": []
    },
    {
      "cell_type": "code",
      "source": [
        "from sklearn.model_selection import train_test_split\n",
        "X_train, X_test, y_train, y_test = train_test_split(X, y_encoded, test_size=0.2, random_state=4)"
      ],
      "metadata": {
        "id": "0ZYrRPJkrpfe"
      },
      "execution_count": 33,
      "outputs": []
    },
    {
      "cell_type": "code",
      "source": [
        "pipeline.fit(X_train, y_train)"
      ],
      "metadata": {
        "colab": {
          "base_uri": "https://localhost:8080/",
          "height": 192
        },
        "id": "ylv9GCx5rtsz",
        "outputId": "5b306ea0-e145-4c42-8e3d-ed435e73a5c1"
      },
      "execution_count": 34,
      "outputs": [
        {
          "output_type": "execute_result",
          "data": {
            "text/plain": [
              "Pipeline(steps=[('preprocessor',\n",
              "                 ColumnTransformer(transformers=[('num', StandardScaler(),\n",
              "                                                  Index(['national_inv', 'lead_time', 'in_transit_qty', 'forecast_3_month',\n",
              "       'forecast_6_month', 'forecast_9_month', 'sales_1_month',\n",
              "       'sales_3_month', 'sales_6_month', 'sales_9_month', 'min_bank',\n",
              "       'pieces_past_due', 'perf_6_month_avg', 'perf_12_month_avg',\n",
              "       'local_bo_qty'],\n",
              "      dtype='object')),\n",
              "                                                 ('cat', OneHotEncoder(),\n",
              "                                                  ['potential_issue',\n",
              "                                                   'deck_risk', 'oe_constraint',\n",
              "                                                   'ppap_risk', 'stop_auto_buy',\n",
              "                                                   'rev_stop'])])),\n",
              "                ('classifier', RandomForestClassifier())])"
            ],
            "text/html": [
              "<style>#sk-container-id-1 {color: black;background-color: white;}#sk-container-id-1 pre{padding: 0;}#sk-container-id-1 div.sk-toggleable {background-color: white;}#sk-container-id-1 label.sk-toggleable__label {cursor: pointer;display: block;width: 100%;margin-bottom: 0;padding: 0.3em;box-sizing: border-box;text-align: center;}#sk-container-id-1 label.sk-toggleable__label-arrow:before {content: \"▸\";float: left;margin-right: 0.25em;color: #696969;}#sk-container-id-1 label.sk-toggleable__label-arrow:hover:before {color: black;}#sk-container-id-1 div.sk-estimator:hover label.sk-toggleable__label-arrow:before {color: black;}#sk-container-id-1 div.sk-toggleable__content {max-height: 0;max-width: 0;overflow: hidden;text-align: left;background-color: #f0f8ff;}#sk-container-id-1 div.sk-toggleable__content pre {margin: 0.2em;color: black;border-radius: 0.25em;background-color: #f0f8ff;}#sk-container-id-1 input.sk-toggleable__control:checked~div.sk-toggleable__content {max-height: 200px;max-width: 100%;overflow: auto;}#sk-container-id-1 input.sk-toggleable__control:checked~label.sk-toggleable__label-arrow:before {content: \"▾\";}#sk-container-id-1 div.sk-estimator input.sk-toggleable__control:checked~label.sk-toggleable__label {background-color: #d4ebff;}#sk-container-id-1 div.sk-label input.sk-toggleable__control:checked~label.sk-toggleable__label {background-color: #d4ebff;}#sk-container-id-1 input.sk-hidden--visually {border: 0;clip: rect(1px 1px 1px 1px);clip: rect(1px, 1px, 1px, 1px);height: 1px;margin: -1px;overflow: hidden;padding: 0;position: absolute;width: 1px;}#sk-container-id-1 div.sk-estimator {font-family: monospace;background-color: #f0f8ff;border: 1px dotted black;border-radius: 0.25em;box-sizing: border-box;margin-bottom: 0.5em;}#sk-container-id-1 div.sk-estimator:hover {background-color: #d4ebff;}#sk-container-id-1 div.sk-parallel-item::after {content: \"\";width: 100%;border-bottom: 1px solid gray;flex-grow: 1;}#sk-container-id-1 div.sk-label:hover label.sk-toggleable__label {background-color: #d4ebff;}#sk-container-id-1 div.sk-serial::before {content: \"\";position: absolute;border-left: 1px solid gray;box-sizing: border-box;top: 0;bottom: 0;left: 50%;z-index: 0;}#sk-container-id-1 div.sk-serial {display: flex;flex-direction: column;align-items: center;background-color: white;padding-right: 0.2em;padding-left: 0.2em;position: relative;}#sk-container-id-1 div.sk-item {position: relative;z-index: 1;}#sk-container-id-1 div.sk-parallel {display: flex;align-items: stretch;justify-content: center;background-color: white;position: relative;}#sk-container-id-1 div.sk-item::before, #sk-container-id-1 div.sk-parallel-item::before {content: \"\";position: absolute;border-left: 1px solid gray;box-sizing: border-box;top: 0;bottom: 0;left: 50%;z-index: -1;}#sk-container-id-1 div.sk-parallel-item {display: flex;flex-direction: column;z-index: 1;position: relative;background-color: white;}#sk-container-id-1 div.sk-parallel-item:first-child::after {align-self: flex-end;width: 50%;}#sk-container-id-1 div.sk-parallel-item:last-child::after {align-self: flex-start;width: 50%;}#sk-container-id-1 div.sk-parallel-item:only-child::after {width: 0;}#sk-container-id-1 div.sk-dashed-wrapped {border: 1px dashed gray;margin: 0 0.4em 0.5em 0.4em;box-sizing: border-box;padding-bottom: 0.4em;background-color: white;}#sk-container-id-1 div.sk-label label {font-family: monospace;font-weight: bold;display: inline-block;line-height: 1.2em;}#sk-container-id-1 div.sk-label-container {text-align: center;}#sk-container-id-1 div.sk-container {/* jupyter's `normalize.less` sets `[hidden] { display: none; }` but bootstrap.min.css set `[hidden] { display: none !important; }` so we also need the `!important` here to be able to override the default hidden behavior on the sphinx rendered scikit-learn.org. See: https://github.com/scikit-learn/scikit-learn/issues/21755 */display: inline-block !important;position: relative;}#sk-container-id-1 div.sk-text-repr-fallback {display: none;}</style><div id=\"sk-container-id-1\" class=\"sk-top-container\"><div class=\"sk-text-repr-fallback\"><pre>Pipeline(steps=[(&#x27;preprocessor&#x27;,\n",
              "                 ColumnTransformer(transformers=[(&#x27;num&#x27;, StandardScaler(),\n",
              "                                                  Index([&#x27;national_inv&#x27;, &#x27;lead_time&#x27;, &#x27;in_transit_qty&#x27;, &#x27;forecast_3_month&#x27;,\n",
              "       &#x27;forecast_6_month&#x27;, &#x27;forecast_9_month&#x27;, &#x27;sales_1_month&#x27;,\n",
              "       &#x27;sales_3_month&#x27;, &#x27;sales_6_month&#x27;, &#x27;sales_9_month&#x27;, &#x27;min_bank&#x27;,\n",
              "       &#x27;pieces_past_due&#x27;, &#x27;perf_6_month_avg&#x27;, &#x27;perf_12_month_avg&#x27;,\n",
              "       &#x27;local_bo_qty&#x27;],\n",
              "      dtype=&#x27;object&#x27;)),\n",
              "                                                 (&#x27;cat&#x27;, OneHotEncoder(),\n",
              "                                                  [&#x27;potential_issue&#x27;,\n",
              "                                                   &#x27;deck_risk&#x27;, &#x27;oe_constraint&#x27;,\n",
              "                                                   &#x27;ppap_risk&#x27;, &#x27;stop_auto_buy&#x27;,\n",
              "                                                   &#x27;rev_stop&#x27;])])),\n",
              "                (&#x27;classifier&#x27;, RandomForestClassifier())])</pre><b>In a Jupyter environment, please rerun this cell to show the HTML representation or trust the notebook. <br />On GitHub, the HTML representation is unable to render, please try loading this page with nbviewer.org.</b></div><div class=\"sk-container\" hidden><div class=\"sk-item sk-dashed-wrapped\"><div class=\"sk-label-container\"><div class=\"sk-label sk-toggleable\"><input class=\"sk-toggleable__control sk-hidden--visually\" id=\"sk-estimator-id-1\" type=\"checkbox\" ><label for=\"sk-estimator-id-1\" class=\"sk-toggleable__label sk-toggleable__label-arrow\">Pipeline</label><div class=\"sk-toggleable__content\"><pre>Pipeline(steps=[(&#x27;preprocessor&#x27;,\n",
              "                 ColumnTransformer(transformers=[(&#x27;num&#x27;, StandardScaler(),\n",
              "                                                  Index([&#x27;national_inv&#x27;, &#x27;lead_time&#x27;, &#x27;in_transit_qty&#x27;, &#x27;forecast_3_month&#x27;,\n",
              "       &#x27;forecast_6_month&#x27;, &#x27;forecast_9_month&#x27;, &#x27;sales_1_month&#x27;,\n",
              "       &#x27;sales_3_month&#x27;, &#x27;sales_6_month&#x27;, &#x27;sales_9_month&#x27;, &#x27;min_bank&#x27;,\n",
              "       &#x27;pieces_past_due&#x27;, &#x27;perf_6_month_avg&#x27;, &#x27;perf_12_month_avg&#x27;,\n",
              "       &#x27;local_bo_qty&#x27;],\n",
              "      dtype=&#x27;object&#x27;)),\n",
              "                                                 (&#x27;cat&#x27;, OneHotEncoder(),\n",
              "                                                  [&#x27;potential_issue&#x27;,\n",
              "                                                   &#x27;deck_risk&#x27;, &#x27;oe_constraint&#x27;,\n",
              "                                                   &#x27;ppap_risk&#x27;, &#x27;stop_auto_buy&#x27;,\n",
              "                                                   &#x27;rev_stop&#x27;])])),\n",
              "                (&#x27;classifier&#x27;, RandomForestClassifier())])</pre></div></div></div><div class=\"sk-serial\"><div class=\"sk-item sk-dashed-wrapped\"><div class=\"sk-label-container\"><div class=\"sk-label sk-toggleable\"><input class=\"sk-toggleable__control sk-hidden--visually\" id=\"sk-estimator-id-2\" type=\"checkbox\" ><label for=\"sk-estimator-id-2\" class=\"sk-toggleable__label sk-toggleable__label-arrow\">preprocessor: ColumnTransformer</label><div class=\"sk-toggleable__content\"><pre>ColumnTransformer(transformers=[(&#x27;num&#x27;, StandardScaler(),\n",
              "                                 Index([&#x27;national_inv&#x27;, &#x27;lead_time&#x27;, &#x27;in_transit_qty&#x27;, &#x27;forecast_3_month&#x27;,\n",
              "       &#x27;forecast_6_month&#x27;, &#x27;forecast_9_month&#x27;, &#x27;sales_1_month&#x27;,\n",
              "       &#x27;sales_3_month&#x27;, &#x27;sales_6_month&#x27;, &#x27;sales_9_month&#x27;, &#x27;min_bank&#x27;,\n",
              "       &#x27;pieces_past_due&#x27;, &#x27;perf_6_month_avg&#x27;, &#x27;perf_12_month_avg&#x27;,\n",
              "       &#x27;local_bo_qty&#x27;],\n",
              "      dtype=&#x27;object&#x27;)),\n",
              "                                (&#x27;cat&#x27;, OneHotEncoder(),\n",
              "                                 [&#x27;potential_issue&#x27;, &#x27;deck_risk&#x27;,\n",
              "                                  &#x27;oe_constraint&#x27;, &#x27;ppap_risk&#x27;, &#x27;stop_auto_buy&#x27;,\n",
              "                                  &#x27;rev_stop&#x27;])])</pre></div></div></div><div class=\"sk-parallel\"><div class=\"sk-parallel-item\"><div class=\"sk-item\"><div class=\"sk-label-container\"><div class=\"sk-label sk-toggleable\"><input class=\"sk-toggleable__control sk-hidden--visually\" id=\"sk-estimator-id-3\" type=\"checkbox\" ><label for=\"sk-estimator-id-3\" class=\"sk-toggleable__label sk-toggleable__label-arrow\">num</label><div class=\"sk-toggleable__content\"><pre>Index([&#x27;national_inv&#x27;, &#x27;lead_time&#x27;, &#x27;in_transit_qty&#x27;, &#x27;forecast_3_month&#x27;,\n",
              "       &#x27;forecast_6_month&#x27;, &#x27;forecast_9_month&#x27;, &#x27;sales_1_month&#x27;,\n",
              "       &#x27;sales_3_month&#x27;, &#x27;sales_6_month&#x27;, &#x27;sales_9_month&#x27;, &#x27;min_bank&#x27;,\n",
              "       &#x27;pieces_past_due&#x27;, &#x27;perf_6_month_avg&#x27;, &#x27;perf_12_month_avg&#x27;,\n",
              "       &#x27;local_bo_qty&#x27;],\n",
              "      dtype=&#x27;object&#x27;)</pre></div></div></div><div class=\"sk-serial\"><div class=\"sk-item\"><div class=\"sk-estimator sk-toggleable\"><input class=\"sk-toggleable__control sk-hidden--visually\" id=\"sk-estimator-id-4\" type=\"checkbox\" ><label for=\"sk-estimator-id-4\" class=\"sk-toggleable__label sk-toggleable__label-arrow\">StandardScaler</label><div class=\"sk-toggleable__content\"><pre>StandardScaler()</pre></div></div></div></div></div></div><div class=\"sk-parallel-item\"><div class=\"sk-item\"><div class=\"sk-label-container\"><div class=\"sk-label sk-toggleable\"><input class=\"sk-toggleable__control sk-hidden--visually\" id=\"sk-estimator-id-5\" type=\"checkbox\" ><label for=\"sk-estimator-id-5\" class=\"sk-toggleable__label sk-toggleable__label-arrow\">cat</label><div class=\"sk-toggleable__content\"><pre>[&#x27;potential_issue&#x27;, &#x27;deck_risk&#x27;, &#x27;oe_constraint&#x27;, &#x27;ppap_risk&#x27;, &#x27;stop_auto_buy&#x27;, &#x27;rev_stop&#x27;]</pre></div></div></div><div class=\"sk-serial\"><div class=\"sk-item\"><div class=\"sk-estimator sk-toggleable\"><input class=\"sk-toggleable__control sk-hidden--visually\" id=\"sk-estimator-id-6\" type=\"checkbox\" ><label for=\"sk-estimator-id-6\" class=\"sk-toggleable__label sk-toggleable__label-arrow\">OneHotEncoder</label><div class=\"sk-toggleable__content\"><pre>OneHotEncoder()</pre></div></div></div></div></div></div></div></div><div class=\"sk-item\"><div class=\"sk-estimator sk-toggleable\"><input class=\"sk-toggleable__control sk-hidden--visually\" id=\"sk-estimator-id-7\" type=\"checkbox\" ><label for=\"sk-estimator-id-7\" class=\"sk-toggleable__label sk-toggleable__label-arrow\">RandomForestClassifier</label><div class=\"sk-toggleable__content\"><pre>RandomForestClassifier()</pre></div></div></div></div></div></div></div>"
            ]
          },
          "metadata": {},
          "execution_count": 34
        }
      ]
    },
    {
      "cell_type": "markdown",
      "source": [
        "Evaluation"
      ],
      "metadata": {
        "id": "rEyxyQDOrxkt"
      }
    },
    {
      "cell_type": "code",
      "source": [
        "from sklearn.model_selection import cross_val_score ,cross_val_predict\n",
        "from sklearn.metrics import confusion_matrix\n",
        "from sklearn.metrics import precision_score, recall_score ,f1_score ,accuracy_score ,roc_auc_score"
      ],
      "metadata": {
        "id": "008jNn-drxPv"
      },
      "execution_count": 44,
      "outputs": []
    },
    {
      "cell_type": "markdown",
      "source": [
        "Training Evaluation Metrics"
      ],
      "metadata": {
        "id": "39RLCJVXw4ps"
      }
    },
    {
      "cell_type": "code",
      "source": [
        "y_pred= pipeline.predict(X_train)"
      ],
      "metadata": {
        "id": "OtfcHNGGu-nu"
      },
      "execution_count": 36,
      "outputs": []
    },
    {
      "cell_type": "code",
      "source": [
        "confusion_matrix(y_train, y_pred)"
      ],
      "metadata": {
        "colab": {
          "base_uri": "https://localhost:8080/"
        },
        "id": "O0QaZD1JvMva",
        "outputId": "1260282e-c96a-4951-bec6-7501d580dc20"
      },
      "execution_count": 37,
      "outputs": [
        {
          "output_type": "execute_result",
          "data": {
            "text/plain": [
              "array([[1260737,      43],\n",
              "       [    466,    8327]])"
            ]
          },
          "metadata": {},
          "execution_count": 37
        }
      ]
    },
    {
      "cell_type": "code",
      "source": [
        "precision_score(y_train, y_pred)"
      ],
      "metadata": {
        "colab": {
          "base_uri": "https://localhost:8080/"
        },
        "id": "awNZrm8xva9P",
        "outputId": "2b5d13a0-ebe2-486e-bc54-73537ae783d3"
      },
      "execution_count": 38,
      "outputs": [
        {
          "output_type": "execute_result",
          "data": {
            "text/plain": [
              "0.9948626045400238"
            ]
          },
          "metadata": {},
          "execution_count": 38
        }
      ]
    },
    {
      "cell_type": "code",
      "source": [
        "recall_score(y_train, y_pred)"
      ],
      "metadata": {
        "colab": {
          "base_uri": "https://localhost:8080/"
        },
        "id": "n8L3HaoDvbyl",
        "outputId": "746b6b02-f8a7-4017-b13f-88fad35c0392"
      },
      "execution_count": 39,
      "outputs": [
        {
          "output_type": "execute_result",
          "data": {
            "text/plain": [
              "0.9470032980780166"
            ]
          },
          "metadata": {},
          "execution_count": 39
        }
      ]
    },
    {
      "cell_type": "code",
      "source": [
        "f1_score(y_train, y_pred)"
      ],
      "metadata": {
        "colab": {
          "base_uri": "https://localhost:8080/"
        },
        "id": "G5mUkRyKvckO",
        "outputId": "3235e137-e62b-4690-93b1-b27bae94e378"
      },
      "execution_count": 40,
      "outputs": [
        {
          "output_type": "execute_result",
          "data": {
            "text/plain": [
              "0.9703431800967197"
            ]
          },
          "metadata": {},
          "execution_count": 40
        }
      ]
    },
    {
      "cell_type": "code",
      "source": [
        "accuracy_score(y_train , y_pred)"
      ],
      "metadata": {
        "colab": {
          "base_uri": "https://localhost:8080/"
        },
        "id": "jI4S-3Zcv0NW",
        "outputId": "48c60347-73de-4b22-e9e5-c1bf75e0d3bd"
      },
      "execution_count": 41,
      "outputs": [
        {
          "output_type": "execute_result",
          "data": {
            "text/plain": [
              "0.9995990778001738"
            ]
          },
          "metadata": {},
          "execution_count": 41
        }
      ]
    },
    {
      "cell_type": "code",
      "source": [
        "roc_auc_score(y_train , y_pred)"
      ],
      "metadata": {
        "colab": {
          "base_uri": "https://localhost:8080/"
        },
        "id": "cbLqHkRUwpEj",
        "outputId": "5f534315-293f-4daa-e899-7800fd23b8b1"
      },
      "execution_count": 45,
      "outputs": [
        {
          "output_type": "execute_result",
          "data": {
            "text/plain": [
              "0.973484596103524"
            ]
          },
          "metadata": {},
          "execution_count": 45
        }
      ]
    },
    {
      "cell_type": "code",
      "source": [
        "def roc_curve_acc(y_train, y_pred, method):\n",
        "    false_positive_rate, true_positive_rate, thresholds = roc_curve(y_train, y_pred)\n",
        "    roc_auc = auc(false_positive_rate, true_positive_rate)\n",
        "    plt.title('Receiver Operating Characteristic')\n",
        "    plt.plot(false_positive_rate, true_positive_rate, color='cyan' ,label='%s AUC = %0.3f'% (method, roc_auc))\n",
        "    plt.legend(loc = 'lower right')\n",
        "    plt.plot([0,1],[0,1],'r--')\n",
        "    plt.xlim([-0.1,1.2])\n",
        "    plt.ylim([-0.1,1.2])\n",
        "    plt.ylabel('True Positive Rate')\n",
        "    plt.xlabel('False Positive Rate')"
      ],
      "metadata": {
        "id": "Ibv0pRjXwRIo"
      },
      "execution_count": 54,
      "outputs": []
    },
    {
      "cell_type": "code",
      "source": [
        "from sklearn.metrics import roc_curve ,auc\n",
        "roc_curve_acc(y_train, y_pred, \"RF\")"
      ],
      "metadata": {
        "colab": {
          "base_uri": "https://localhost:8080/",
          "height": 472
        },
        "id": "m6GiWjFZxjs0",
        "outputId": "6b6a5431-8d43-42aa-b293-2fb432902559"
      },
      "execution_count": 56,
      "outputs": [
        {
          "output_type": "display_data",
          "data": {
            "text/plain": [
              "<Figure size 640x480 with 1 Axes>"
            ],
            "image/png": "[encoded data removed]"
          },
          "metadata": {}
        }
      ]
    },
    {
      "cell_type": "code",
      "source": [],
      "metadata": {
        "id": "6FpQuRLlwg25"
      },
      "execution_count": null,
      "outputs": []
    }
  ]
}